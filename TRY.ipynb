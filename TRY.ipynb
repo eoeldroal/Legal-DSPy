{
 "cells": [
  {
   "cell_type": "code",
   "execution_count": 2,
   "id": "af7e9519",
   "metadata": {},
   "outputs": [],
   "source": [
    "import dspy\n",
    "from dotenv import load_dotenv"
   ]
  },
  {
   "cell_type": "code",
   "execution_count": 3,
   "id": "f4cfb9b0",
   "metadata": {},
   "outputs": [
    {
     "data": {
      "text/plain": [
       "True"
      ]
     },
     "execution_count": 3,
     "metadata": {},
     "output_type": "execute_result"
    }
   ],
   "source": [
    "load_dotenv()"
   ]
  },
  {
   "cell_type": "code",
   "execution_count": 4,
   "id": "27773b4b",
   "metadata": {},
   "outputs": [],
   "source": [
    "# 1. 언어 모델 설정\n",
    "lm = dspy.LM('gpt-4o-mini')\n",
    "dspy.configure(lm=lm)"
   ]
  },
  {
   "cell_type": "code",
   "execution_count": 5,
   "id": "aa0201e8",
   "metadata": {},
   "outputs": [],
   "source": [
    "class QA(dspy.Signature):\n",
    "    \"\"\"Answer questions with reasoning.\"\"\"\n",
    "    question = dspy.InputField()\n",
    "    answer = dspy.OutputField(desc=\"short, precise answer\")"
   ]
  },
  {
   "cell_type": "code",
   "execution_count": 6,
   "id": "e7d99e4e",
   "metadata": {},
   "outputs": [
    {
     "data": {
      "text/plain": [
       "QA(question -> answer\n",
       "    instructions='Answer questions with reasoning.'\n",
       "    question = Field(annotation=str required=True json_schema_extra={'__dspy_field_type': 'input', 'prefix': 'Question:', 'desc': '${question}'})\n",
       "    answer = Field(annotation=str required=True json_schema_extra={'desc': 'short, precise answer', '__dspy_field_type': 'output', 'prefix': 'Answer:'})\n",
       ")"
      ]
     },
     "execution_count": 6,
     "metadata": {},
     "output_type": "execute_result"
    }
   ],
   "source": [
    "QA"
   ]
  },
  {
   "cell_type": "code",
   "execution_count": 7,
   "id": "b64cc8ae",
   "metadata": {},
   "outputs": [],
   "source": [
    "# 3. 모듈 생성\n",
    "qa_module = dspy.ChainOfThought(QA)"
   ]
  },
  {
   "cell_type": "code",
   "execution_count": 10,
   "id": "4ee2f460",
   "metadata": {},
   "outputs": [
    {
     "data": {
      "text/plain": [
       "predict = Predict(StringSignature(question -> reasoning, answer\n",
       "    instructions='Answer questions with reasoning.'\n",
       "    question = Field(annotation=str required=True json_schema_extra={'__dspy_field_type': 'input', 'prefix': 'Question:', 'desc': '${question}'})\n",
       "    reasoning = Field(annotation=str required=True json_schema_extra={'prefix': \"Reasoning: Let's think step by step in order to\", 'desc': '${reasoning}', '__dspy_field_type': 'output'})\n",
       "    answer = Field(annotation=str required=True json_schema_extra={'desc': 'short, precise answer', '__dspy_field_type': 'output', 'prefix': 'Answer:'})\n",
       "))"
      ]
     },
     "execution_count": 10,
     "metadata": {},
     "output_type": "execute_result"
    }
   ],
   "source": [
    "qa_module"
   ]
  },
  {
   "cell_type": "code",
   "execution_count": 8,
   "id": "1d29197f",
   "metadata": {},
   "outputs": [],
   "source": [
    "result = qa_module(question=\"What's the probability of getting sum 2 with two dice?\")"
   ]
  },
  {
   "cell_type": "code",
   "execution_count": 9,
   "id": "3f68e529",
   "metadata": {},
   "outputs": [
    {
     "data": {
      "text/plain": [
       "Prediction(\n",
       "    reasoning='To find the probability of getting a sum of 2 with two dice, we first need to determine the total number of possible outcomes when rolling two dice. Each die has 6 faces, so the total number of outcomes is 6 * 6 = 36. \\n\\nNext, we identify the combinations that result in a sum of 2. The only combination that gives a sum of 2 is (1, 1). Therefore, there is only 1 favorable outcome.\\n\\nThe probability is calculated as the number of favorable outcomes divided by the total number of outcomes. Thus, the probability of getting a sum of 2 is:\\n\\nP(sum of 2) = Number of favorable outcomes / Total outcomes = 1 / 36.',\n",
       "    answer='1/36'\n",
       ")"
      ]
     },
     "execution_count": 9,
     "metadata": {},
     "output_type": "execute_result"
    }
   ],
   "source": [
    "result"
   ]
  },
  {
   "cell_type": "code",
   "execution_count": null,
   "id": "2423b11b",
   "metadata": {},
   "outputs": [],
   "source": []
  }
 ],
 "metadata": {
  "kernelspec": {
   "display_name": "DSPy",
   "language": "python",
   "name": "python3"
  },
  "language_info": {
   "codemirror_mode": {
    "name": "ipython",
    "version": 3
   },
   "file_extension": ".py",
   "mimetype": "text/x-python",
   "name": "python",
   "nbconvert_exporter": "python",
   "pygments_lexer": "ipython3",
   "version": "3.10.18"
  }
 },
 "nbformat": 4,
 "nbformat_minor": 5
}
